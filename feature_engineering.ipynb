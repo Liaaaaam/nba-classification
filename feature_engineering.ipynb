{
 "cells": [
  {
   "cell_type": "markdown",
   "metadata": {},
   "source": [
    "# Feature Engineering"
   ]
  },
  {
   "cell_type": "code",
   "execution_count": 1,
   "metadata": {
    "collapsed": true
   },
   "outputs": [],
   "source": [
    "import numpy as np\n",
    "import pandas as pd\n",
    "import matplotlib.pyplot as plt\n",
    "%matplotlib inline\n",
    "import seaborn as sns\n",
    "from statsmodels.stats.outliers_influence import variance_inflation_factor"
   ]
  },
  {
   "cell_type": "markdown",
   "metadata": {},
   "source": [
    "## Load Raw Data"
   ]
  },
  {
   "cell_type": "code",
   "execution_count": 2,
   "metadata": {},
   "outputs": [],
   "source": [
    "data_stats = pd.read_csv('stats_data.csv', encoding = \"ISO-8859-1\")\n",
    "data_pop = pd.read_csv('popularity_data.csv', encoding = \"ISO-8859-1\")\n",
    "data = pd.merge(data_stats, data_pop, on=['Player','Year'])"
   ]
  },
  {
   "cell_type": "code",
   "execution_count": 3,
   "metadata": {},
   "outputs": [
    {
     "data": {
      "text/html": [
       "<div>\n",
       "<style>\n",
       "    .dataframe thead tr:only-child th {\n",
       "        text-align: right;\n",
       "    }\n",
       "\n",
       "    .dataframe thead th {\n",
       "        text-align: left;\n",
       "    }\n",
       "\n",
       "    .dataframe tbody tr th {\n",
       "        vertical-align: top;\n",
       "    }\n",
       "</style>\n",
       "<table border=\"1\" class=\"dataframe\">\n",
       "  <thead>\n",
       "    <tr style=\"text-align: right;\">\n",
       "      <th></th>\n",
       "      <th>S</th>\n",
       "      <th>Year</th>\n",
       "      <th>Player</th>\n",
       "      <th>Allstar</th>\n",
       "      <th>Pos</th>\n",
       "      <th>Age</th>\n",
       "      <th>Tm</th>\n",
       "      <th>G</th>\n",
       "      <th>GS</th>\n",
       "      <th>MP</th>\n",
       "      <th>...</th>\n",
       "      <th>TRB</th>\n",
       "      <th>AST</th>\n",
       "      <th>STL</th>\n",
       "      <th>BLK</th>\n",
       "      <th>TOV</th>\n",
       "      <th>PF</th>\n",
       "      <th>PTS</th>\n",
       "      <th>Unnamed: 0</th>\n",
       "      <th>Unnamed: 0.1</th>\n",
       "      <th>Popularity</th>\n",
       "    </tr>\n",
       "  </thead>\n",
       "  <tbody>\n",
       "    <tr>\n",
       "      <th>0</th>\n",
       "      <td>21679</td>\n",
       "      <td>2013</td>\n",
       "      <td>Quincy Acy</td>\n",
       "      <td>0</td>\n",
       "      <td>PF</td>\n",
       "      <td>22</td>\n",
       "      <td>TOR</td>\n",
       "      <td>29</td>\n",
       "      <td>0</td>\n",
       "      <td>342</td>\n",
       "      <td>...</td>\n",
       "      <td>77</td>\n",
       "      <td>11</td>\n",
       "      <td>13</td>\n",
       "      <td>15</td>\n",
       "      <td>17</td>\n",
       "      <td>53</td>\n",
       "      <td>116</td>\n",
       "      <td>1115</td>\n",
       "      <td>0</td>\n",
       "      <td>131.0</td>\n",
       "    </tr>\n",
       "    <tr>\n",
       "      <th>1</th>\n",
       "      <td>21680</td>\n",
       "      <td>2013</td>\n",
       "      <td>Jeff Adrien</td>\n",
       "      <td>0</td>\n",
       "      <td>PF</td>\n",
       "      <td>26</td>\n",
       "      <td>CHA</td>\n",
       "      <td>52</td>\n",
       "      <td>5</td>\n",
       "      <td>713</td>\n",
       "      <td>...</td>\n",
       "      <td>196</td>\n",
       "      <td>36</td>\n",
       "      <td>18</td>\n",
       "      <td>27</td>\n",
       "      <td>32</td>\n",
       "      <td>80</td>\n",
       "      <td>209</td>\n",
       "      <td>1575</td>\n",
       "      <td>0</td>\n",
       "      <td>240.0</td>\n",
       "    </tr>\n",
       "    <tr>\n",
       "      <th>2</th>\n",
       "      <td>21681</td>\n",
       "      <td>2013</td>\n",
       "      <td>Arron Afflalo</td>\n",
       "      <td>0</td>\n",
       "      <td>SF</td>\n",
       "      <td>27</td>\n",
       "      <td>ORL</td>\n",
       "      <td>64</td>\n",
       "      <td>64</td>\n",
       "      <td>2307</td>\n",
       "      <td>...</td>\n",
       "      <td>239</td>\n",
       "      <td>206</td>\n",
       "      <td>40</td>\n",
       "      <td>11</td>\n",
       "      <td>138</td>\n",
       "      <td>137</td>\n",
       "      <td>1057</td>\n",
       "      <td>1400</td>\n",
       "      <td>0</td>\n",
       "      <td>294.0</td>\n",
       "    </tr>\n",
       "    <tr>\n",
       "      <th>3</th>\n",
       "      <td>21686</td>\n",
       "      <td>2013</td>\n",
       "      <td>LaMarcus Aldridge</td>\n",
       "      <td>1</td>\n",
       "      <td>PF</td>\n",
       "      <td>27</td>\n",
       "      <td>POR</td>\n",
       "      <td>74</td>\n",
       "      <td>74</td>\n",
       "      <td>2790</td>\n",
       "      <td>...</td>\n",
       "      <td>670</td>\n",
       "      <td>192</td>\n",
       "      <td>62</td>\n",
       "      <td>91</td>\n",
       "      <td>143</td>\n",
       "      <td>187</td>\n",
       "      <td>1560</td>\n",
       "      <td>160</td>\n",
       "      <td>0</td>\n",
       "      <td>56.0</td>\n",
       "    </tr>\n",
       "    <tr>\n",
       "      <th>4</th>\n",
       "      <td>21687</td>\n",
       "      <td>2013</td>\n",
       "      <td>Lavoy Allen</td>\n",
       "      <td>0</td>\n",
       "      <td>C</td>\n",
       "      <td>23</td>\n",
       "      <td>PHI</td>\n",
       "      <td>79</td>\n",
       "      <td>37</td>\n",
       "      <td>1669</td>\n",
       "      <td>...</td>\n",
       "      <td>395</td>\n",
       "      <td>73</td>\n",
       "      <td>24</td>\n",
       "      <td>55</td>\n",
       "      <td>55</td>\n",
       "      <td>180</td>\n",
       "      <td>455</td>\n",
       "      <td>1460</td>\n",
       "      <td>0</td>\n",
       "      <td>153.0</td>\n",
       "    </tr>\n",
       "  </tbody>\n",
       "</table>\n",
       "<p>5 rows × 55 columns</p>\n",
       "</div>"
      ],
      "text/plain": [
       "       S  Year             Player  Allstar Pos  Age   Tm   G  GS    MP  \\\n",
       "0  21679  2013         Quincy Acy        0  PF   22  TOR  29   0   342   \n",
       "1  21680  2013        Jeff Adrien        0  PF   26  CHA  52   5   713   \n",
       "2  21681  2013      Arron Afflalo        0  SF   27  ORL  64  64  2307   \n",
       "3  21686  2013  LaMarcus Aldridge        1  PF   27  POR  74  74  2790   \n",
       "4  21687  2013        Lavoy Allen        0   C   23  PHI  79  37  1669   \n",
       "\n",
       "      ...      TRB  AST  STL  BLK  TOV   PF   PTS  Unnamed: 0  Unnamed: 0.1  \\\n",
       "0     ...       77   11   13   15   17   53   116        1115             0   \n",
       "1     ...      196   36   18   27   32   80   209        1575             0   \n",
       "2     ...      239  206   40   11  138  137  1057        1400             0   \n",
       "3     ...      670  192   62   91  143  187  1560         160             0   \n",
       "4     ...      395   73   24   55   55  180   455        1460             0   \n",
       "\n",
       "   Popularity  \n",
       "0       131.0  \n",
       "1       240.0  \n",
       "2       294.0  \n",
       "3        56.0  \n",
       "4       153.0  \n",
       "\n",
       "[5 rows x 55 columns]"
      ]
     },
     "execution_count": 3,
     "metadata": {},
     "output_type": "execute_result"
    }
   ],
   "source": [
    "data.head()"
   ]
  },
  {
   "cell_type": "code",
   "execution_count": 4,
   "metadata": {},
   "outputs": [
    {
     "data": {
      "text/html": [
       "<div>\n",
       "<style>\n",
       "    .dataframe thead tr:only-child th {\n",
       "        text-align: right;\n",
       "    }\n",
       "\n",
       "    .dataframe thead th {\n",
       "        text-align: left;\n",
       "    }\n",
       "\n",
       "    .dataframe tbody tr th {\n",
       "        vertical-align: top;\n",
       "    }\n",
       "</style>\n",
       "<table border=\"1\" class=\"dataframe\">\n",
       "  <thead>\n",
       "    <tr style=\"text-align: right;\">\n",
       "      <th></th>\n",
       "      <th>S</th>\n",
       "      <th>Year</th>\n",
       "      <th>Allstar</th>\n",
       "      <th>Age</th>\n",
       "      <th>G</th>\n",
       "      <th>GS</th>\n",
       "      <th>MP</th>\n",
       "      <th>PER</th>\n",
       "      <th>TS%</th>\n",
       "      <th>3PAr</th>\n",
       "      <th>...</th>\n",
       "      <th>TRB</th>\n",
       "      <th>AST</th>\n",
       "      <th>STL</th>\n",
       "      <th>BLK</th>\n",
       "      <th>TOV</th>\n",
       "      <th>PF</th>\n",
       "      <th>PTS</th>\n",
       "      <th>Unnamed: 0</th>\n",
       "      <th>Unnamed: 0.1</th>\n",
       "      <th>Popularity</th>\n",
       "    </tr>\n",
       "  </thead>\n",
       "  <tbody>\n",
       "    <tr>\n",
       "      <th>count</th>\n",
       "      <td>2703.000000</td>\n",
       "      <td>2703.000000</td>\n",
       "      <td>2703.000000</td>\n",
       "      <td>2703.000000</td>\n",
       "      <td>2703.000000</td>\n",
       "      <td>2703.000000</td>\n",
       "      <td>2703.000000</td>\n",
       "      <td>2702.000000</td>\n",
       "      <td>2695.000000</td>\n",
       "      <td>2695.000000</td>\n",
       "      <td>...</td>\n",
       "      <td>2703.000000</td>\n",
       "      <td>2703.000000</td>\n",
       "      <td>2703.000000</td>\n",
       "      <td>2703.000000</td>\n",
       "      <td>2703.000000</td>\n",
       "      <td>2703.000000</td>\n",
       "      <td>2703.000000</td>\n",
       "      <td>2703.000000</td>\n",
       "      <td>2703.000000</td>\n",
       "      <td>2703.000000</td>\n",
       "    </tr>\n",
       "    <tr>\n",
       "      <th>mean</th>\n",
       "      <td>23213.571587</td>\n",
       "      <td>2015.052904</td>\n",
       "      <td>0.038846</td>\n",
       "      <td>26.628561</td>\n",
       "      <td>50.701443</td>\n",
       "      <td>23.814280</td>\n",
       "      <td>1169.380688</td>\n",
       "      <td>12.880496</td>\n",
       "      <td>0.517798</td>\n",
       "      <td>0.294040</td>\n",
       "      <td>...</td>\n",
       "      <td>204.166112</td>\n",
       "      <td>109.037736</td>\n",
       "      <td>37.568627</td>\n",
       "      <td>22.444321</td>\n",
       "      <td>66.756937</td>\n",
       "      <td>96.825009</td>\n",
       "      <td>490.093970</td>\n",
       "      <td>883.159083</td>\n",
       "      <td>2.052904</td>\n",
       "      <td>407.989271</td>\n",
       "    </tr>\n",
       "    <tr>\n",
       "      <th>std</th>\n",
       "      <td>859.580490</td>\n",
       "      <td>1.382110</td>\n",
       "      <td>0.193263</td>\n",
       "      <td>4.258447</td>\n",
       "      <td>25.089315</td>\n",
       "      <td>28.155582</td>\n",
       "      <td>841.695638</td>\n",
       "      <td>5.984366</td>\n",
       "      <td>0.082939</td>\n",
       "      <td>0.211162</td>\n",
       "      <td>...</td>\n",
       "      <td>190.158764</td>\n",
       "      <td>126.529781</td>\n",
       "      <td>33.266754</td>\n",
       "      <td>29.854256</td>\n",
       "      <td>60.006437</td>\n",
       "      <td>66.655878</td>\n",
       "      <td>443.987861</td>\n",
       "      <td>509.594949</td>\n",
       "      <td>1.382110</td>\n",
       "      <td>391.684666</td>\n",
       "    </tr>\n",
       "    <tr>\n",
       "      <th>min</th>\n",
       "      <td>21679.000000</td>\n",
       "      <td>2013.000000</td>\n",
       "      <td>0.000000</td>\n",
       "      <td>19.000000</td>\n",
       "      <td>1.000000</td>\n",
       "      <td>0.000000</td>\n",
       "      <td>0.000000</td>\n",
       "      <td>-41.700000</td>\n",
       "      <td>0.000000</td>\n",
       "      <td>0.000000</td>\n",
       "      <td>...</td>\n",
       "      <td>0.000000</td>\n",
       "      <td>0.000000</td>\n",
       "      <td>0.000000</td>\n",
       "      <td>0.000000</td>\n",
       "      <td>0.000000</td>\n",
       "      <td>0.000000</td>\n",
       "      <td>0.000000</td>\n",
       "      <td>0.000000</td>\n",
       "      <td>0.000000</td>\n",
       "      <td>0.000000</td>\n",
       "    </tr>\n",
       "    <tr>\n",
       "      <th>25%</th>\n",
       "      <td>22475.500000</td>\n",
       "      <td>2014.000000</td>\n",
       "      <td>0.000000</td>\n",
       "      <td>23.000000</td>\n",
       "      <td>29.000000</td>\n",
       "      <td>1.000000</td>\n",
       "      <td>397.000000</td>\n",
       "      <td>10.000000</td>\n",
       "      <td>0.488000</td>\n",
       "      <td>0.106000</td>\n",
       "      <td>...</td>\n",
       "      <td>57.000000</td>\n",
       "      <td>23.500000</td>\n",
       "      <td>11.000000</td>\n",
       "      <td>4.000000</td>\n",
       "      <td>19.000000</td>\n",
       "      <td>38.000000</td>\n",
       "      <td>129.500000</td>\n",
       "      <td>444.500000</td>\n",
       "      <td>1.000000</td>\n",
       "      <td>127.500000</td>\n",
       "    </tr>\n",
       "    <tr>\n",
       "      <th>50%</th>\n",
       "      <td>23234.000000</td>\n",
       "      <td>2015.000000</td>\n",
       "      <td>0.000000</td>\n",
       "      <td>26.000000</td>\n",
       "      <td>56.000000</td>\n",
       "      <td>9.000000</td>\n",
       "      <td>1072.000000</td>\n",
       "      <td>12.900000</td>\n",
       "      <td>0.527000</td>\n",
       "      <td>0.299000</td>\n",
       "      <td>...</td>\n",
       "      <td>154.000000</td>\n",
       "      <td>66.000000</td>\n",
       "      <td>29.000000</td>\n",
       "      <td>12.000000</td>\n",
       "      <td>51.000000</td>\n",
       "      <td>93.000000</td>\n",
       "      <td>377.000000</td>\n",
       "      <td>885.000000</td>\n",
       "      <td>2.000000</td>\n",
       "      <td>316.000000</td>\n",
       "    </tr>\n",
       "    <tr>\n",
       "      <th>75%</th>\n",
       "      <td>23948.500000</td>\n",
       "      <td>2016.000000</td>\n",
       "      <td>0.000000</td>\n",
       "      <td>29.000000</td>\n",
       "      <td>74.000000</td>\n",
       "      <td>44.000000</td>\n",
       "      <td>1858.000000</td>\n",
       "      <td>15.900000</td>\n",
       "      <td>0.561000</td>\n",
       "      <td>0.446000</td>\n",
       "      <td>...</td>\n",
       "      <td>293.000000</td>\n",
       "      <td>144.000000</td>\n",
       "      <td>55.000000</td>\n",
       "      <td>29.000000</td>\n",
       "      <td>98.000000</td>\n",
       "      <td>146.000000</td>\n",
       "      <td>747.500000</td>\n",
       "      <td>1309.500000</td>\n",
       "      <td>3.000000</td>\n",
       "      <td>558.000000</td>\n",
       "    </tr>\n",
       "    <tr>\n",
       "      <th>max</th>\n",
       "      <td>24690.000000</td>\n",
       "      <td>2017.000000</td>\n",
       "      <td>1.000000</td>\n",
       "      <td>40.000000</td>\n",
       "      <td>83.000000</td>\n",
       "      <td>82.000000</td>\n",
       "      <td>3167.000000</td>\n",
       "      <td>129.100000</td>\n",
       "      <td>1.094000</td>\n",
       "      <td>1.000000</td>\n",
       "      <td>...</td>\n",
       "      <td>1226.000000</td>\n",
       "      <td>906.000000</td>\n",
       "      <td>191.000000</td>\n",
       "      <td>242.000000</td>\n",
       "      <td>464.000000</td>\n",
       "      <td>301.000000</td>\n",
       "      <td>2593.000000</td>\n",
       "      <td>1858.000000</td>\n",
       "      <td>4.000000</td>\n",
       "      <td>3358.000000</td>\n",
       "    </tr>\n",
       "  </tbody>\n",
       "</table>\n",
       "<p>8 rows × 52 columns</p>\n",
       "</div>"
      ],
      "text/plain": [
       "                  S         Year      Allstar          Age            G  \\\n",
       "count   2703.000000  2703.000000  2703.000000  2703.000000  2703.000000   \n",
       "mean   23213.571587  2015.052904     0.038846    26.628561    50.701443   \n",
       "std      859.580490     1.382110     0.193263     4.258447    25.089315   \n",
       "min    21679.000000  2013.000000     0.000000    19.000000     1.000000   \n",
       "25%    22475.500000  2014.000000     0.000000    23.000000    29.000000   \n",
       "50%    23234.000000  2015.000000     0.000000    26.000000    56.000000   \n",
       "75%    23948.500000  2016.000000     0.000000    29.000000    74.000000   \n",
       "max    24690.000000  2017.000000     1.000000    40.000000    83.000000   \n",
       "\n",
       "                GS           MP          PER          TS%         3PAr  \\\n",
       "count  2703.000000  2703.000000  2702.000000  2695.000000  2695.000000   \n",
       "mean     23.814280  1169.380688    12.880496     0.517798     0.294040   \n",
       "std      28.155582   841.695638     5.984366     0.082939     0.211162   \n",
       "min       0.000000     0.000000   -41.700000     0.000000     0.000000   \n",
       "25%       1.000000   397.000000    10.000000     0.488000     0.106000   \n",
       "50%       9.000000  1072.000000    12.900000     0.527000     0.299000   \n",
       "75%      44.000000  1858.000000    15.900000     0.561000     0.446000   \n",
       "max      82.000000  3167.000000   129.100000     1.094000     1.000000   \n",
       "\n",
       "          ...               TRB          AST          STL          BLK  \\\n",
       "count     ...       2703.000000  2703.000000  2703.000000  2703.000000   \n",
       "mean      ...        204.166112   109.037736    37.568627    22.444321   \n",
       "std       ...        190.158764   126.529781    33.266754    29.854256   \n",
       "min       ...          0.000000     0.000000     0.000000     0.000000   \n",
       "25%       ...         57.000000    23.500000    11.000000     4.000000   \n",
       "50%       ...        154.000000    66.000000    29.000000    12.000000   \n",
       "75%       ...        293.000000   144.000000    55.000000    29.000000   \n",
       "max       ...       1226.000000   906.000000   191.000000   242.000000   \n",
       "\n",
       "               TOV           PF          PTS   Unnamed: 0  Unnamed: 0.1  \\\n",
       "count  2703.000000  2703.000000  2703.000000  2703.000000   2703.000000   \n",
       "mean     66.756937    96.825009   490.093970   883.159083      2.052904   \n",
       "std      60.006437    66.655878   443.987861   509.594949      1.382110   \n",
       "min       0.000000     0.000000     0.000000     0.000000      0.000000   \n",
       "25%      19.000000    38.000000   129.500000   444.500000      1.000000   \n",
       "50%      51.000000    93.000000   377.000000   885.000000      2.000000   \n",
       "75%      98.000000   146.000000   747.500000  1309.500000      3.000000   \n",
       "max     464.000000   301.000000  2593.000000  1858.000000      4.000000   \n",
       "\n",
       "        Popularity  \n",
       "count  2703.000000  \n",
       "mean    407.989271  \n",
       "std     391.684666  \n",
       "min       0.000000  \n",
       "25%     127.500000  \n",
       "50%     316.000000  \n",
       "75%     558.000000  \n",
       "max    3358.000000  \n",
       "\n",
       "[8 rows x 52 columns]"
      ]
     },
     "execution_count": 4,
     "metadata": {},
     "output_type": "execute_result"
    }
   ],
   "source": [
    "data.describe()"
   ]
  },
  {
   "cell_type": "code",
   "execution_count": 5,
   "metadata": {},
   "outputs": [
    {
     "data": {
      "text/plain": [
       "['S',\n",
       " 'Year',\n",
       " 'Player',\n",
       " 'Allstar',\n",
       " 'Pos',\n",
       " 'Age',\n",
       " 'Tm',\n",
       " 'G',\n",
       " 'GS',\n",
       " 'MP',\n",
       " 'PER',\n",
       " 'TS%',\n",
       " '3PAr',\n",
       " 'FTr',\n",
       " 'ORB%',\n",
       " 'DRB%',\n",
       " 'TRB%',\n",
       " 'AST%',\n",
       " 'STL%',\n",
       " 'BLK%',\n",
       " 'TOV%',\n",
       " 'USG%',\n",
       " 'OWS',\n",
       " 'DWS',\n",
       " 'WS',\n",
       " 'WS/48',\n",
       " 'OBPM',\n",
       " 'DBPM',\n",
       " 'BPM',\n",
       " 'VORP',\n",
       " 'FG',\n",
       " 'FGA',\n",
       " 'FG%',\n",
       " '3P',\n",
       " '3PA',\n",
       " '3P%',\n",
       " '2P',\n",
       " '2PA',\n",
       " '2P%',\n",
       " 'eFG%',\n",
       " 'FT',\n",
       " 'FTA',\n",
       " 'FT%',\n",
       " 'ORB',\n",
       " 'DRB',\n",
       " 'TRB',\n",
       " 'AST',\n",
       " 'STL',\n",
       " 'BLK',\n",
       " 'TOV',\n",
       " 'PF',\n",
       " 'PTS',\n",
       " 'Unnamed: 0',\n",
       " 'Unnamed: 0.1',\n",
       " 'Popularity']"
      ]
     },
     "execution_count": 5,
     "metadata": {},
     "output_type": "execute_result"
    }
   ],
   "source": [
    "data.columns.tolist()"
   ]
  },
  {
   "cell_type": "markdown",
   "metadata": {},
   "source": [
    "## Clean Data"
   ]
  },
  {
   "cell_type": "markdown",
   "metadata": {},
   "source": [
    "Remove artifacted columnns:"
   ]
  },
  {
   "cell_type": "code",
   "execution_count": 6,
   "metadata": {
    "collapsed": true
   },
   "outputs": [],
   "source": [
    "cols = data.columns.tolist()\n",
    "cols = [x for x in cols if 'Unnamed' not in x]\n",
    "data = data[cols]"
   ]
  },
  {
   "cell_type": "code",
   "execution_count": 7,
   "metadata": {
    "collapsed": true
   },
   "outputs": [],
   "source": [
    "def getBinaryClassInfo(dataframe, binary_feature):\n",
    "    print('Initial Number of Samples: ', dataframe.shape[0])\n",
    "    class_counts = dataframe[binary_feature].value_counts()\n",
    "    class1_prop = class_counts[1]/class_counts[0]\n",
    "    print('Percentage of All-Star Samples: ',  round(class1_prop*100, 2), '%')"
   ]
  },
  {
   "cell_type": "code",
   "execution_count": 8,
   "metadata": {},
   "outputs": [
    {
     "name": "stdout",
     "output_type": "stream",
     "text": [
      "Initial Number of Samples:  2703\n",
      "Percentage of All-Star Samples:  4.04 %\n"
     ]
    }
   ],
   "source": [
    "getBinaryClassInfo(data, 'Allstar')"
   ]
  },
  {
   "cell_type": "markdown",
   "metadata": {},
   "source": [
    "### Drop Duplicates"
   ]
  },
  {
   "cell_type": "markdown",
   "metadata": {},
   "source": [
    "We'll remove all duplicate rows that correspond to the same player and season. In effect, this removes any sample that corresponds a season in which a given player was traded."
   ]
  },
  {
   "cell_type": "code",
   "execution_count": 9,
   "metadata": {},
   "outputs": [
    {
     "name": "stdout",
     "output_type": "stream",
     "text": [
      "Initial Number of Samples:  1970\n",
      "Percentage of All-Star Samples:  5.46 %\n"
     ]
    }
   ],
   "source": [
    "data_nodups = data.drop_duplicates(subset=['Year', 'Player'], keep=False)\n",
    "getBinaryClassInfo(data_nodups, 'Allstar')\n",
    "data = data_nodups"
   ]
  },
  {
   "cell_type": "markdown",
   "metadata": {},
   "source": [
    "### Explore Missingness"
   ]
  },
  {
   "cell_type": "code",
   "execution_count": 10,
   "metadata": {
    "collapsed": true
   },
   "outputs": [],
   "source": [
    "def getMissingness(data):\n",
    "    nan_counts = data.isnull().sum().tolist()\n",
    "    features = data.columns.tolist()\n",
    "    \n",
    "    missingness = pd.DataFrame()\n",
    "    missingness['features'] = pd.Series(features)\n",
    "    missingness['nan_counts'] = pd.Series(nan_counts)\n",
    "    missingness = missingness[missingness.nan_counts != 0]\n",
    "\n",
    "    ax = sns.barplot(x=missingness.features, y=missingness.nan_counts)\n",
    "    ax.set(xlabel='Features', ylabel='Missingness Count')\n",
    "    plt.show()\n",
    "    \n",
    "    return missingness"
   ]
  },
  {
   "cell_type": "code",
   "execution_count": 11,
   "metadata": {},
   "outputs": [
    {
     "data": {
      "image/png": "[encoded data removed]",
      "text/plain": [
       "<matplotlib.figure.Figure at 0x1242216a0>"
      ]
     },
     "metadata": {},
     "output_type": "display_data"
    },
    {
     "data": {
      "text/html": [
       "<div>\n",
       "<style>\n",
       "    .dataframe thead tr:only-child th {\n",
       "        text-align: right;\n",
       "    }\n",
       "\n",
       "    .dataframe thead th {\n",
       "        text-align: left;\n",
       "    }\n",
       "\n",
       "    .dataframe tbody tr th {\n",
       "        vertical-align: top;\n",
       "    }\n",
       "</style>\n",
       "<table border=\"1\" class=\"dataframe\">\n",
       "  <thead>\n",
       "    <tr style=\"text-align: right;\">\n",
       "      <th></th>\n",
       "      <th>features</th>\n",
       "      <th>nan_counts</th>\n",
       "    </tr>\n",
       "  </thead>\n",
       "  <tbody>\n",
       "    <tr>\n",
       "      <th>10</th>\n",
       "      <td>PER</td>\n",
       "      <td>1</td>\n",
       "    </tr>\n",
       "    <tr>\n",
       "      <th>11</th>\n",
       "      <td>TS%</td>\n",
       "      <td>3</td>\n",
       "    </tr>\n",
       "    <tr>\n",
       "      <th>12</th>\n",
       "      <td>3PAr</td>\n",
       "      <td>3</td>\n",
       "    </tr>\n",
       "    <tr>\n",
       "      <th>13</th>\n",
       "      <td>FTr</td>\n",
       "      <td>3</td>\n",
       "    </tr>\n",
       "    <tr>\n",
       "      <th>14</th>\n",
       "      <td>ORB%</td>\n",
       "      <td>1</td>\n",
       "    </tr>\n",
       "    <tr>\n",
       "      <th>15</th>\n",
       "      <td>DRB%</td>\n",
       "      <td>1</td>\n",
       "    </tr>\n",
       "    <tr>\n",
       "      <th>16</th>\n",
       "      <td>TRB%</td>\n",
       "      <td>1</td>\n",
       "    </tr>\n",
       "    <tr>\n",
       "      <th>17</th>\n",
       "      <td>AST%</td>\n",
       "      <td>1</td>\n",
       "    </tr>\n",
       "    <tr>\n",
       "      <th>18</th>\n",
       "      <td>STL%</td>\n",
       "      <td>1</td>\n",
       "    </tr>\n",
       "    <tr>\n",
       "      <th>19</th>\n",
       "      <td>BLK%</td>\n",
       "      <td>1</td>\n",
       "    </tr>\n",
       "    <tr>\n",
       "      <th>20</th>\n",
       "      <td>TOV%</td>\n",
       "      <td>2</td>\n",
       "    </tr>\n",
       "    <tr>\n",
       "      <th>21</th>\n",
       "      <td>USG%</td>\n",
       "      <td>1</td>\n",
       "    </tr>\n",
       "    <tr>\n",
       "      <th>25</th>\n",
       "      <td>WS/48</td>\n",
       "      <td>1</td>\n",
       "    </tr>\n",
       "    <tr>\n",
       "      <th>32</th>\n",
       "      <td>FG%</td>\n",
       "      <td>3</td>\n",
       "    </tr>\n",
       "    <tr>\n",
       "      <th>35</th>\n",
       "      <td>3P%</td>\n",
       "      <td>125</td>\n",
       "    </tr>\n",
       "    <tr>\n",
       "      <th>38</th>\n",
       "      <td>2P%</td>\n",
       "      <td>8</td>\n",
       "    </tr>\n",
       "    <tr>\n",
       "      <th>39</th>\n",
       "      <td>eFG%</td>\n",
       "      <td>3</td>\n",
       "    </tr>\n",
       "    <tr>\n",
       "      <th>42</th>\n",
       "      <td>FT%</td>\n",
       "      <td>33</td>\n",
       "    </tr>\n",
       "  </tbody>\n",
       "</table>\n",
       "</div>"
      ],
      "text/plain": [
       "   features  nan_counts\n",
       "10      PER           1\n",
       "11      TS%           3\n",
       "12     3PAr           3\n",
       "13      FTr           3\n",
       "14     ORB%           1\n",
       "15     DRB%           1\n",
       "16     TRB%           1\n",
       "17     AST%           1\n",
       "18     STL%           1\n",
       "19     BLK%           1\n",
       "20     TOV%           2\n",
       "21     USG%           1\n",
       "25    WS/48           1\n",
       "32      FG%           3\n",
       "35      3P%         125\n",
       "38      2P%           8\n",
       "39     eFG%           3\n",
       "42      FT%          33"
      ]
     },
     "execution_count": 11,
     "metadata": {},
     "output_type": "execute_result"
    }
   ],
   "source": [
    "plt.figure(figsize=(16,4))\n",
    "getMissingness(data)"
   ]
  },
  {
   "cell_type": "markdown",
   "metadata": {},
   "source": [
    "* It appears that **blank2** is a bogus feature that most samples are missing a value for, so we can confidently drop it from our dataset."
   ]
  },
  {
   "cell_type": "markdown",
   "metadata": {},
   "source": [
    "* Many samples are also missing a value for **3P%**. Since we think it might be a valuable feature down the road, we'll choose to sacrifice 14% of our dataset for now and discard every sample that does not contain a value for **3P%**. If later it seems that having the additional 1000 samples is necessary, we can use an imputation method to preserve them."
   ]
  },
  {
   "cell_type": "markdown",
   "metadata": {},
   "source": [
    "* The missingness of other features is so minimal that we will discard all correspinding samples."
   ]
  },
  {
   "cell_type": "markdown",
   "metadata": {},
   "source": [
    "Drop all rows with missingness (NaN values):"
   ]
  },
  {
   "cell_type": "code",
   "execution_count": 12,
   "metadata": {},
   "outputs": [
    {
     "name": "stdout",
     "output_type": "stream",
     "text": [
      "Initial Number of Samples:  1819\n",
      "Percentage of All-Star Samples:  5.94 %\n"
     ]
    }
   ],
   "source": [
    "data = data.dropna()\n",
    "\n",
    "getBinaryClassInfo(data, 'Allstar')"
   ]
  },
  {
   "cell_type": "code",
   "execution_count": 13,
   "metadata": {},
   "outputs": [
    {
     "data": {
      "text/plain": [
       "False"
      ]
     },
     "execution_count": 13,
     "metadata": {},
     "output_type": "execute_result"
    }
   ],
   "source": [
    "data.isnull().values.any()"
   ]
  },
  {
   "cell_type": "markdown",
   "metadata": {},
   "source": [
    "Having dealt with duplicates and missingness, we are left around 6000 samples. "
   ]
  },
  {
   "cell_type": "markdown",
   "metadata": {},
   "source": [
    "## Make Dataset Numeric"
   ]
  },
  {
   "cell_type": "code",
   "execution_count": 14,
   "metadata": {
    "collapsed": true
   },
   "outputs": [],
   "source": [
    "def isNumericDataframe(data):\n",
    "    non_numeric = []\n",
    "    for col in data.columns.tolist():\n",
    "        data_type = data[col].dtype\n",
    "        if data_type == np.dtype('O'):\n",
    "            return False\n",
    "    return True"
   ]
  },
  {
   "cell_type": "markdown",
   "metadata": {},
   "source": [
    "At this point we should get our dataset to a point where all of its elements contain numeric values. Our only non-numeric features are **Name**, **Pos** (position), and **Tm** (team). Name can be dropped, but we might be able to extract some value out of **Pos** and **Tm**."
   ]
  },
  {
   "cell_type": "code",
   "execution_count": 15,
   "metadata": {
    "collapsed": true
   },
   "outputs": [],
   "source": [
    "data.to_csv('popularity_reference.csv')\n",
    "data = data.drop('Player', axis=1)"
   ]
  },
  {
   "cell_type": "markdown",
   "metadata": {},
   "source": [
    "Let's check out the distribution of values for these to features:"
   ]
  },
  {
   "cell_type": "code",
   "execution_count": 16,
   "metadata": {},
   "outputs": [
    {
     "data": {
      "text/plain": [
       "Text(0.5,1,'Positions')"
      ]
     },
     "execution_count": 16,
     "metadata": {},
     "output_type": "execute_result"
    },
    {
     "data": {
      "image/png": "[encoded data removed]",
      "text/plain": [
       "<matplotlib.figure.Figure at 0x1246373c8>"
      ]
     },
     "metadata": {},
     "output_type": "display_data"
    }
   ],
   "source": [
    "positions_dims = (10, 5)\n",
    "\n",
    "fig, positions = plt.subplots(figsize=positions_dims)\n",
    "sns.countplot(data['Pos'], ax=positions).set_title('Positions')"
   ]
  },
  {
   "cell_type": "code",
   "execution_count": 17,
   "metadata": {},
   "outputs": [
    {
     "data": {
      "text/plain": [
       "Text(0.5,1,'Teams')"
      ]
     },
     "execution_count": 17,
     "metadata": {},
     "output_type": "execute_result"
    },
    {
     "data": {
      "image/png": "[encoded data removed]",
      "text/plain": [
       "<matplotlib.figure.Figure at 0x1248ef908>"
      ]
     },
     "metadata": {},
     "output_type": "display_data"
    }
   ],
   "source": [
    "teams_dims = (15, 5)\n",
    "\n",
    "fig, teams = plt.subplots(figsize=teams_dims)\n",
    "sns.countplot(data['Tm'], ax=teams).set_title('Teams')"
   ]
  },
  {
   "cell_type": "markdown",
   "metadata": {},
   "source": [
    "We can easily one-hot encode our data on positions. I'm not sure if this will provide much value, but we can make that determination later."
   ]
  },
  {
   "cell_type": "code",
   "execution_count": 18,
   "metadata": {
    "collapsed": true
   },
   "outputs": [],
   "source": [
    "data = pd.concat([data, pd.get_dummies(data['Pos'])], axis=1)\n",
    "data = data.drop('Pos', axis=1)"
   ]
  },
  {
   "cell_type": "markdown",
   "metadata": {},
   "source": [
    "It doesn't seem like our team feature will do much for us. Some teams represented in our data either no longer exist or have changed their name, leaving us with an odd distribution. Also, over 3/4 of teams share a similar level of presence in our datase, so grouping probably isn't of much value. And since one-hot encoding all teams would increase our feature set by 50%, we are going to drop this feature."
   ]
  },
  {
   "cell_type": "code",
   "execution_count": 19,
   "metadata": {
    "collapsed": true
   },
   "outputs": [],
   "source": [
    "data = data.drop('Tm', axis=1)"
   ]
  },
  {
   "cell_type": "markdown",
   "metadata": {},
   "source": [
    "Our dataset is now completely numeric."
   ]
  },
  {
   "cell_type": "markdown",
   "metadata": {},
   "source": [
    "## Reduce Colinearity"
   ]
  },
  {
   "cell_type": "markdown",
   "metadata": {},
   "source": [
    "So as of now, we have far too many features to work with. On top of this, many features seem to share a lot of colinearity. Now we'll use VIFs (variance inflation factor) to condense our feature set."
   ]
  },
  {
   "cell_type": "code",
   "execution_count": 20,
   "metadata": {
    "collapsed": true
   },
   "outputs": [],
   "source": [
    "def calculateVIF(data):\n",
    "    features = data.columns.tolist()\n",
    "    vif_matrix = data.as_matrix()\n",
    "    vif_scores = []\n",
    "    for x in range(len(features)):\n",
    "        vif_score = variance_inflation_factor(vif_matrix, x)\n",
    "        vif_scores.append(vif_score)\n",
    "        \n",
    "    scores = pd.DataFrame()\n",
    "    scores['features'] = pd.Series(features)\n",
    "    scores['vif'] = pd.Series(vif_scores)\n",
    "    scores = scores.sort_values('vif', ascending=False)\n",
    "    \n",
    "    return scores"
   ]
  },
  {
   "cell_type": "code",
   "execution_count": 21,
   "metadata": {
    "collapsed": true
   },
   "outputs": [],
   "source": [
    "def dropFeatures(data, features):\n",
    "    data = data.drop(features, axis=1)\n",
    "    vifs = calculateVIF(data)\n",
    "    return data"
   ]
  },
  {
   "cell_type": "markdown",
   "metadata": {},
   "source": [
    "Saving a dataset that does not have any features removed due to colinearity:"
   ]
  },
  {
   "cell_type": "code",
   "execution_count": 22,
   "metadata": {
    "collapsed": true
   },
   "outputs": [],
   "source": [
    "data.to_csv('full_data.csv')"
   ]
  },
  {
   "cell_type": "markdown",
   "metadata": {},
   "source": [
    "Let's set aside our all-star feature for now:"
   ]
  },
  {
   "cell_type": "code",
   "execution_count": 23,
   "metadata": {
    "collapsed": true
   },
   "outputs": [],
   "source": [
    "allstar = data['Allstar']\n",
    "data = data.drop('Allstar', axis=1)"
   ]
  },
  {
   "cell_type": "markdown",
   "metadata": {},
   "source": [
    "Now we'll sequentially work through removing features based on their VIFs. We'll start out by reomoving ones with extremeley high scores and then use our discresion as our feature set gets smaller."
   ]
  },
  {
   "cell_type": "code",
   "execution_count": 24,
   "metadata": {},
   "outputs": [
    {
     "name": "stderr",
     "output_type": "stream",
     "text": [
      "/Users/Liam/anaconda/lib/python3.6/site-packages/statsmodels/stats/outliers_influence.py:167: RuntimeWarning: divide by zero encountered in double_scalars\n",
      "  vif = 1. / (1. - r_squared_i)\n"
     ]
    },
    {
     "name": "stdout",
     "output_type": "stream",
     "text": [
      "   features           vif\n",
      "27      FGA           inf\n",
      "26       FG           inf\n",
      "47      PTS           inf\n",
      "41      TRB           inf\n",
      "40      DRB           inf\n",
      "39      ORB           inf\n",
      "36       FT           inf\n",
      "33      2PA           inf\n",
      "32       2P           inf\n",
      "30      3PA           inf\n",
      "29       3P           inf\n",
      "53       SG  1.299981e+07\n",
      "51       PG  1.148134e+07\n",
      "52       SF  1.148088e+07\n",
      "50       PF  1.123751e+07\n"
     ]
    }
   ],
   "source": [
    "vifs = calculateVIF(data)\n",
    "print(vifs.head(15))"
   ]
  },
  {
   "cell_type": "markdown",
   "metadata": {},
   "source": [
    "It looks like there is a lot of colinearity among many of the cumulative stats. Since there are equivalent propotional stats for most of these, we can drop them. Let's create a points-per-game (**PPG**) feature:"
   ]
  },
  {
   "cell_type": "code",
   "execution_count": 25,
   "metadata": {
    "collapsed": true
   },
   "outputs": [],
   "source": [
    "data['PPG'] = round(data['PTS']/data['G'], 2)"
   ]
  },
  {
   "cell_type": "markdown",
   "metadata": {},
   "source": [
    "Dropping features with 15 highest VIFs:"
   ]
  },
  {
   "cell_type": "code",
   "execution_count": 26,
   "metadata": {},
   "outputs": [
    {
     "name": "stdout",
     "output_type": "stream",
     "text": [
      "   features          vif\n",
      "26      FG%  9117.464680\n",
      "29     eFG%  8725.103272\n",
      "12     TRB%  7961.501976\n",
      "20       WS  7626.981182\n",
      "24      BPM  6021.216190\n",
      "11     DRB%  4321.640844\n",
      "22     OBPM  3802.573765\n",
      "18      OWS  3038.357820\n",
      "7       TS%  2885.651648\n",
      "1      Year  1484.426065\n",
      "23     DBPM  1460.646542\n",
      "19      DWS  1412.670678\n",
      "0         S   990.978350\n",
      "10     ORB%   640.293185\n",
      "6       PER   610.647457\n"
     ]
    }
   ],
   "source": [
    "dropping = vifs['features'].tolist()[:15]\n",
    "data = dropFeatures(data, dropping)\n",
    "vifs = calculateVIF(data)\n",
    "print(vifs.head(15))"
   ]
  },
  {
   "cell_type": "markdown",
   "metadata": {},
   "source": [
    "Deleteing next 15 features with highest VIFs:"
   ]
  },
  {
   "cell_type": "code",
   "execution_count": 27,
   "metadata": {},
   "outputs": [
    {
     "name": "stdout",
     "output_type": "stream",
     "text": [
      "      features         vif\n",
      "3           MP  126.145698\n",
      "1            G   74.174177\n",
      "10        USG%   70.109435\n",
      "23         PPG   60.038498\n",
      "14         2P%   58.228565\n",
      "20         TOV   46.989141\n",
      "16         FT%   41.676776\n",
      "0          Age   34.293167\n",
      "17         AST   30.885338\n",
      "18         STL   23.521153\n",
      "6         AST%   22.452701\n",
      "15         FTA   21.851764\n",
      "9         TOV%   21.794262\n",
      "7         STL%   13.277715\n",
      "11       WS/48   10.752274\n",
      "19         BLK   10.486582\n",
      "8         BLK%   10.143900\n",
      "5          FTr    9.228143\n",
      "2           GS    8.969298\n",
      "13         3P%    8.044585\n",
      "4         3PAr    6.882310\n",
      "12        VORP    6.453968\n",
      "22           C    2.145474\n",
      "21  Popularity    2.012913\n"
     ]
    }
   ],
   "source": [
    "dropping = vifs['features'].tolist()[:15]\n",
    "data = dropFeatures(data, dropping)\n",
    "vifs = calculateVIF(data)\n",
    "print(vifs)"
   ]
  },
  {
   "cell_type": "markdown",
   "metadata": {},
   "source": [
    "Designate a dataset with a little over 20 features:"
   ]
  },
  {
   "cell_type": "code",
   "execution_count": 28,
   "metadata": {},
   "outputs": [
    {
     "data": {
      "text/plain": [
       "(1819, 24)"
      ]
     },
     "execution_count": 28,
     "metadata": {},
     "output_type": "execute_result"
    }
   ],
   "source": [
    "data_big = data\n",
    "data_big.shape"
   ]
  },
  {
   "cell_type": "markdown",
   "metadata": {},
   "source": [
    "Dropping features with 15 highest VIFs:"
   ]
  },
  {
   "cell_type": "code",
   "execution_count": 29,
   "metadata": {},
   "outputs": [
    {
     "name": "stdout",
     "output_type": "stream",
     "text": [
      "     features       vif\n",
      "6         BLK  6.724193\n",
      "3        BLK%  6.634335\n",
      "5         3P%  5.958649\n",
      "1        3PAr  4.218827\n",
      "0          GS  3.859462\n",
      "2         FTr  3.543945\n",
      "4        VORP  2.313375\n",
      "8           C  1.972792\n",
      "7  Popularity  1.845300\n"
     ]
    }
   ],
   "source": [
    "dropping = vifs['features'].tolist()[:15]\n",
    "data = dropFeatures(data, dropping)\n",
    "vifs = calculateVIF(data)\n",
    "print(vifs)"
   ]
  },
  {
   "cell_type": "code",
   "execution_count": 30,
   "metadata": {},
   "outputs": [
    {
     "name": "stdout",
     "output_type": "stream",
     "text": [
      "     features       vif\n",
      "1         FTr  3.518045\n",
      "2        BLK%  3.211651\n",
      "0          GS  3.132656\n",
      "4         3P%  2.853770\n",
      "3        VORP  2.177163\n",
      "6           C  1.927407\n",
      "5  Popularity  1.812672\n"
     ]
    }
   ],
   "source": [
    "dropping = ['BLK', '3PAr']\n",
    "data = dropFeatures(data, dropping)\n",
    "vifs = calculateVIF(data)\n",
    "print(vifs)"
   ]
  },
  {
   "cell_type": "markdown",
   "metadata": {},
   "source": [
    "Designate a dataset with 7 features, all of which have VIFs < 5:"
   ]
  },
  {
   "cell_type": "code",
   "execution_count": 31,
   "metadata": {},
   "outputs": [
    {
     "data": {
      "text/plain": [
       "(1819, 7)"
      ]
     },
     "execution_count": 31,
     "metadata": {},
     "output_type": "execute_result"
    }
   ],
   "source": [
    "data_small = data\n",
    "data_small.shape"
   ]
  },
  {
   "cell_type": "markdown",
   "metadata": {},
   "source": [
    "We've cut out a ton of colinearity from our original dataset and are left with two seperate datasets at this point:\n",
    "\n",
    "* **data_big** contains 24 features, many of which have VIFs above 5\n",
    "* **data_small** contains 7 features, all of which have VIFs above 5\n",
    "\n",
    "At this poin, we're not sure if more features with more colinearity or less features with less colinearity will serve us better. We'll test both out later and see what works best."
   ]
  },
  {
   "cell_type": "markdown",
   "metadata": {},
   "source": [
    "As a final step before exporting our dataset, lets move our **Allstar** feature back:"
   ]
  },
  {
   "cell_type": "code",
   "execution_count": 32,
   "metadata": {
    "collapsed": true
   },
   "outputs": [],
   "source": [
    "data_big['Allstar'] = allstar\n",
    "data_small['Allstar'] = allstar"
   ]
  },
  {
   "cell_type": "code",
   "execution_count": 33,
   "metadata": {
    "collapsed": true
   },
   "outputs": [],
   "source": [
    "data_big.to_csv('data_big.csv')\n",
    "data_small.to_csv('data_small.csv')"
   ]
  }
 ],
 "metadata": {
  "kernelspec": {
   "display_name": "Python 3",
   "language": "python",
   "name": "python3"
  },
  "language_info": {
   "codemirror_mode": {
    "name": "ipython",
    "version": 3
   },
   "file_extension": ".py",
   "mimetype": "text/x-python",
   "name": "python",
   "nbconvert_exporter": "python",
   "pygments_lexer": "ipython3",
   "version": "3.6.1"
  }
 },
 "nbformat": 4,
 "nbformat_minor": 2
}
