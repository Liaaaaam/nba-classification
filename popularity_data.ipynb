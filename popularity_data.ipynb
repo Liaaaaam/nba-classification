{
 "cells": [
  {
   "cell_type": "code",
   "execution_count": null,
   "metadata": {
    "collapsed": true
   },
   "outputs": [],
   "source": [
    "import numpy as np\n",
    "import pandas as pd\n",
    "from pytrends.request import TrendReq"
   ]
  },
  {
   "cell_type": "code",
   "execution_count": null,
   "metadata": {
    "collapsed": true
   },
   "outputs": [],
   "source": [
    "pytrends = TrendReq(hl='en-US', tz=360)"
   ]
  },
  {
   "cell_type": "code",
   "execution_count": null,
   "metadata": {
    "collapsed": true
   },
   "outputs": [],
   "source": [
    "data = pd.read_csv('popularity_reference.csv')"
   ]
  },
  {
   "cell_type": "code",
   "execution_count": null,
   "metadata": {},
   "outputs": [],
   "source": [
    "index = pd.DataFrame()\n",
    "index['Player'] = data['Player']\n",
    "index['Year'] = data['Year']\n",
    "index['Popularity'] = pd.Series()"
   ]
  },
  {
   "cell_type": "code",
   "execution_count": null,
   "metadata": {},
   "outputs": [],
   "source": [
    "data = data[data['Year'] >= 2013]"
   ]
  },
  {
   "cell_type": "code",
   "execution_count": null,
   "metadata": {},
   "outputs": [],
   "source": [
    "players = index['Player'].tolist()\n",
    "players = set(players)\n",
    "players = list(players)"
   ]
  },
  {
   "cell_type": "code",
   "execution_count": null,
   "metadata": {
    "collapsed": true
   },
   "outputs": [],
   "source": [
    "def getPopularity(player):\n",
    "    kw_list = [player]\n",
    "    pytrends.build_payload(kw_list, timeframe='all', geo='US')\n",
    "    df = pytrends.interest_over_time()\n",
    "    df = df.reset_index()\n",
    "    df['date'] = df['date'].apply(lambda x: x.strftime('%Y.%m.%d'))\n",
    "    df['date'] = df['date'].apply(lambda x: x[:4])\n",
    "    df = df.groupby('date')[kw_list[0]].sum()\n",
    "    df = df.reset_index()\n",
    "    df.columns = ['Year', 'Popularity']\n",
    "    df['Player'] = kw_list[0]\n",
    "    return df"
   ]
  },
  {
   "cell_type": "code",
   "execution_count": null,
   "metadata": {},
   "outputs": [],
   "source": [
    "popularity_dict = {}\n",
    "for player in players:\n",
    "    popularity_dict[player] = getPopularity(player)\n",
    "\n",
    "    try:\n",
    "    \n",
    "        df = pd.DataFrame()\n",
    "        df['Year'] = pd.Series()\n",
    "        df['Popularity'] = pd.Series()\n",
    "        df['Player'] = pd.Series()\n",
    "        for x in list(popularity_dict):\n",
    "            df = pd.concat([df, popularity_dict[x]], axis=0, join='outer', join_axes=None, ignore_index=False,\n",
    "                  keys=None, levels=None, names=None, verify_integrity=False,\n",
    "                  copy=True)\n",
    "    except KeyError:\n",
    "        continue    "
   ]
  },
  {
   "cell_type": "code",
   "execution_count": null,
   "metadata": {
    "collapsed": true
   },
   "outputs": [],
   "source": [
    "df.to_csv('popularity_data')"
   ]
  }
 ],
 "metadata": {
  "kernelspec": {
   "display_name": "Python 3",
   "language": "python",
   "name": "python3"
  },
  "language_info": {
   "codemirror_mode": {
    "name": "ipython",
    "version": 3
   },
   "file_extension": ".py",
   "mimetype": "text/x-python",
   "name": "python",
   "nbconvert_exporter": "python",
   "pygments_lexer": "ipython3",
   "version": "3.6.1"
  }
 },
 "nbformat": 4,
 "nbformat_minor": 2
}
